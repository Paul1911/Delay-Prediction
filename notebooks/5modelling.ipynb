{
 "cells": [
  {
   "cell_type": "markdown",
   "metadata": {},
   "source": [
    "# Scope of this workbook\n",
    "\n",
    "Here, we want to actually model the whole thing for different datasets. "
   ]
  },
  {
   "cell_type": "code",
   "execution_count": 43,
   "metadata": {},
   "outputs": [],
   "source": [
    "# Imports\n",
    "import pandas as pd \n",
    "import numpy as np \n",
    "import seaborn as sns\n",
    "import matplotlib.pyplot as plt\n",
    "\n",
    "import datetime\n",
    "\n",
    "from sklearn.preprocessing import OneHotEncoder\n",
    "from sklearn.ensemble import GradientBoostingRegressor\n",
    "from sklearn.linear_model import LinearRegression\n",
    "from sklearn.model_selection import train_test_split\n",
    "from sklearn.metrics import mean_squared_error\n",
    "\n",
    "\n",
    "#Settings\n",
    "pd.set_option(\"display.max_rows\", 70)\n",
    "pd.set_option(\"display.max_columns\", 101)"
   ]
  },
  {
   "cell_type": "markdown",
   "metadata": {},
   "source": [
    "# full_df_unedited"
   ]
  },
  {
   "cell_type": "markdown",
   "metadata": {},
   "source": [
    "full_df_unedited = pd.read_pickle('../data/processed/full_df_unedited.pkl')"
   ]
  },
  {
   "cell_type": "markdown",
   "metadata": {},
   "source": [
    "full_df_unedited.head()"
   ]
  },
  {
   "cell_type": "markdown",
   "metadata": {},
   "source": [
    "# For the moment, let's in this step drop all variables we will not use. ToDo: Check which step is the best step to do that\n",
    "columns_to_drop = [\n",
    "    'TLC_trans',\n",
    "    'catering_duration',\n",
    "    'dep_sched_date', # the date itself has no real information. ToDo: Maybe we should extract the day of week here\n",
    "    'dep_sched_time', # the time has a value but is dropped for the moment due to formatting. \n",
    "    'arr_sched_date',\n",
    "    'arr_sched_time',\n",
    "    'm_offblockdt',\n",
    "    'm_onblockdt'\n",
    "]\n",
    "\n",
    "full_df_unedited = full_df_unedited.drop(columns_to_drop, axis = 1)\n",
    "\n",
    "full_df_unedited = full_df_unedited[full_df_unedited['Act Groundtime']<180]"
   ]
  },
  {
   "cell_type": "markdown",
   "metadata": {},
   "source": [
    "# Creating dummy variables for all categorical variables\n",
    "\n",
    "# Note: Onehotencoder is the better solution, however for simplicity let's use pandas for the moment\n",
    "#full_df_unedited = OneHotEncoder().fit_transform(full_df_unedited)\n",
    "#full_df_unedited\n",
    "\n",
    "# Get object columns\n",
    "full_df_unedited_objectcolumns = full_df_unedited.select_dtypes(include = 'object')\n",
    "varlist = full_df_unedited_objectcolumns.columns.values.tolist()\n",
    "\n",
    "#get dummies\n",
    "full_df_unedited_encoded = pd.get_dummies(full_df_unedited, columns = varlist, drop_first = True)"
   ]
  },
  {
   "cell_type": "markdown",
   "metadata": {},
   "source": [
    "full_df_unedited_encoded.shape"
   ]
  },
  {
   "cell_type": "markdown",
   "metadata": {},
   "source": [
    "# We split the forecast in two different forecasts - one for ground time and one for block time\n",
    "\n",
    "X_train_block, X_test_block, y_train_block, y_test_block = train_test_split(full_df_unedited_encoded.drop(['actual_block_time'], axis = 1), full_df_unedited_encoded['actual_block_time'], test_size=0.33, random_state=42)\n",
    "X_train_ground, X_test_ground, y_train_ground, y_test_ground = train_test_split(full_df_unedited_encoded.drop(['Act Groundtime'], axis = 1), full_df_unedited_encoded['Act Groundtime'], test_size=0.33, random_state=42)"
   ]
  },
  {
   "cell_type": "markdown",
   "metadata": {},
   "source": [
    "# Gradientboosting as base classifier\n",
    "\n",
    "# Blocktime\n",
    "base_model_block = GradientBoostingRegressor()\n",
    "\n",
    "base_model_block.fit(X_train_block, y_train_block)\n",
    "base_model_block.predict(X_test_block)\n",
    "\n",
    "\n",
    "# Groundtime\n",
    "\n",
    "base_model_ground = GradientBoostingRegressor()\n",
    "\n",
    "base_model_ground.fit(X_train_ground, y_train_ground)\n",
    "base_model_ground.predict(X_test_ground)\n"
   ]
  },
  {
   "cell_type": "markdown",
   "metadata": {},
   "source": [
    "# Blocktime\n",
    "r2_block = base_model_block.score(X_test_block, y_test_block)\n",
    "rmse_block = np.sqrt(mean_squared_error(y_test_block, base_model_block.predict(X_test_block)))\n",
    "print(\"The r^2 for Block time is \" + str(round(r2_block,4)))\n",
    "print(\"The RMSE for Block time is \" + str(round(rmse_block,2)) + \" minutes.\")\n",
    "print(\"\\n\")\n",
    "\n",
    "# Groundtime\n",
    "r2_ground = base_model_ground.score(X_test_ground, y_test_ground)\n",
    "rmse_ground = np.sqrt(mean_squared_error(y_test_ground, base_model_ground.predict(X_test_ground)))\n",
    "print(\"The r^2 for Ground time is \" + str(round(r2_ground,4)))\n",
    "print(\"The RMSE for Ground time is \" + str(round(rmse_ground,2)) + \" minutes.\")"
   ]
  },
  {
   "cell_type": "markdown",
   "metadata": {},
   "source": [
    "# full_df_unedited with delay prediction"
   ]
  },
  {
   "cell_type": "code",
   "execution_count": 44,
   "metadata": {},
   "outputs": [
    {
     "data": {
      "text/html": [
       "<div>\n",
       "<style scoped>\n",
       "    .dataframe tbody tr th:only-of-type {\n",
       "        vertical-align: middle;\n",
       "    }\n",
       "\n",
       "    .dataframe tbody tr th {\n",
       "        vertical-align: top;\n",
       "    }\n",
       "\n",
       "    .dataframe thead th {\n",
       "        text-align: right;\n",
       "    }\n",
       "</style>\n",
       "<table border=\"1\" class=\"dataframe\">\n",
       "  <thead>\n",
       "    <tr style=\"text-align: right;\">\n",
       "      <th></th>\n",
       "      <th>fn_number_x</th>\n",
       "      <th>dep_ap_sched</th>\n",
       "      <th>arr_ap_sched</th>\n",
       "      <th>dep_sched_date</th>\n",
       "      <th>dep_sched_time</th>\n",
       "      <th>arr_sched_date</th>\n",
       "      <th>arr_sched_time</th>\n",
       "      <th>m_offblockdt</th>\n",
       "      <th>m_onblockdt</th>\n",
       "      <th>ac_registration_x</th>\n",
       "      <th>dep_delay</th>\n",
       "      <th>Ac Type Code</th>\n",
       "      <th>trans_time</th>\n",
       "      <th>sched_trans_time</th>\n",
       "      <th>Crew Group</th>\n",
       "      <th>TLC_trans</th>\n",
       "      <th>crew_type_change</th>\n",
       "      <th>Sched Groundtime</th>\n",
       "      <th>Act Groundtime</th>\n",
       "      <th>mingt</th>\n",
       "      <th>arr_leg_outbound</th>\n",
       "      <th>catering_duration</th>\n",
       "      <th>pax_boarding_duration</th>\n",
       "      <th>actual_block_time</th>\n",
       "      <th>flt_event_number</th>\n",
       "      <th>block_delay</th>\n",
       "      <th>ground_delay</th>\n",
       "    </tr>\n",
       "  </thead>\n",
       "  <tbody>\n",
       "    <tr>\n",
       "      <th>0</th>\n",
       "      <td>EC3292</td>\n",
       "      <td>New Jessica</td>\n",
       "      <td>East Carmen</td>\n",
       "      <td>2019-06-01</td>\n",
       "      <td>2019-06-01 03:25:00</td>\n",
       "      <td>2019-06-01</td>\n",
       "      <td>2019-06-01 06:45:00</td>\n",
       "      <td>2019-06-01 03:50:00</td>\n",
       "      <td>2019-06-01 07:01:00</td>\n",
       "      <td>ECLBAX</td>\n",
       "      <td>25.0</td>\n",
       "      <td>320</td>\n",
       "      <td>0</td>\n",
       "      <td>0</td>\n",
       "      <td>Start</td>\n",
       "      <td>['Sean Weeks_nan_nan_nan_ca', 'Tony Lloyd_nan_...</td>\n",
       "      <td>[]</td>\n",
       "      <td>95.0</td>\n",
       "      <td>94.0</td>\n",
       "      <td>45.0</td>\n",
       "      <td>South Nathaniel</td>\n",
       "      <td>27.0</td>\n",
       "      <td>25.0</td>\n",
       "      <td>191.0</td>\n",
       "      <td>1</td>\n",
       "      <td>-9.0</td>\n",
       "      <td>25.0</td>\n",
       "    </tr>\n",
       "    <tr>\n",
       "      <th>6</th>\n",
       "      <td>EC3008</td>\n",
       "      <td>Joneshaven</td>\n",
       "      <td>East Carmen</td>\n",
       "      <td>2019-06-02</td>\n",
       "      <td>2019-06-02 08:55:00</td>\n",
       "      <td>2019-06-02</td>\n",
       "      <td>2019-06-02 10:20:00</td>\n",
       "      <td>2019-06-02 09:10:00</td>\n",
       "      <td>2019-06-02 10:28:00</td>\n",
       "      <td>ECLBAX</td>\n",
       "      <td>15.0</td>\n",
       "      <td>320</td>\n",
       "      <td>39</td>\n",
       "      <td>45</td>\n",
       "      <td>A</td>\n",
       "      <td>['Kyle Melendez_66_39_45_cp', 'Marissa Edwards...</td>\n",
       "      <td>[]</td>\n",
       "      <td>50.0</td>\n",
       "      <td>65.0</td>\n",
       "      <td>45.0</td>\n",
       "      <td>Marioborough</td>\n",
       "      <td>20.0</td>\n",
       "      <td>16.0</td>\n",
       "      <td>78.0</td>\n",
       "      <td>2</td>\n",
       "      <td>-7.0</td>\n",
       "      <td>15.0</td>\n",
       "    </tr>\n",
       "    <tr>\n",
       "      <th>12</th>\n",
       "      <td>EC2578</td>\n",
       "      <td>Lake Lawrencechester</td>\n",
       "      <td>East Carmen</td>\n",
       "      <td>2019-06-03</td>\n",
       "      <td>2019-06-03 07:50:00</td>\n",
       "      <td>2019-06-03</td>\n",
       "      <td>2019-06-03 09:15:00</td>\n",
       "      <td>2019-06-03 07:50:00</td>\n",
       "      <td>2019-06-03 09:11:00</td>\n",
       "      <td>ECLBAX</td>\n",
       "      <td>0.0</td>\n",
       "      <td>320</td>\n",
       "      <td>54</td>\n",
       "      <td>70</td>\n",
       "      <td>A</td>\n",
       "      <td>['Mrs. Cheryl Williams_60_54_70_ca', 'Brian Wh...</td>\n",
       "      <td>[]</td>\n",
       "      <td>95.0</td>\n",
       "      <td>122.0</td>\n",
       "      <td>45.0</td>\n",
       "      <td>Desireeton</td>\n",
       "      <td>20.0</td>\n",
       "      <td>26.0</td>\n",
       "      <td>81.0</td>\n",
       "      <td>2</td>\n",
       "      <td>-4.0</td>\n",
       "      <td>0.0</td>\n",
       "    </tr>\n",
       "    <tr>\n",
       "      <th>16</th>\n",
       "      <td>EC3316</td>\n",
       "      <td>East Latashaview</td>\n",
       "      <td>East Carmen</td>\n",
       "      <td>2019-06-04</td>\n",
       "      <td>2019-06-04 03:15:00</td>\n",
       "      <td>2019-06-04</td>\n",
       "      <td>2019-06-04 07:05:00</td>\n",
       "      <td>2019-06-04 03:29:00</td>\n",
       "      <td>2019-06-04 07:10:00</td>\n",
       "      <td>ECLBAX</td>\n",
       "      <td>14.0</td>\n",
       "      <td>320</td>\n",
       "      <td>0</td>\n",
       "      <td>0</td>\n",
       "      <td>Start</td>\n",
       "      <td>['Richard Anderson_nan_nan_nan_ca', 'Vicki Gri...</td>\n",
       "      <td>[]</td>\n",
       "      <td>80.0</td>\n",
       "      <td>89.0</td>\n",
       "      <td>45.0</td>\n",
       "      <td>East Latashaview</td>\n",
       "      <td>21.0</td>\n",
       "      <td>27.0</td>\n",
       "      <td>221.0</td>\n",
       "      <td>1</td>\n",
       "      <td>-9.0</td>\n",
       "      <td>14.0</td>\n",
       "    </tr>\n",
       "    <tr>\n",
       "      <th>20</th>\n",
       "      <td>EC2868</td>\n",
       "      <td>Kennethfort</td>\n",
       "      <td>East Carmen</td>\n",
       "      <td>2019-06-05</td>\n",
       "      <td>2019-06-05 08:00:00</td>\n",
       "      <td>2019-06-05</td>\n",
       "      <td>2019-06-05 10:00:00</td>\n",
       "      <td>2019-06-05 08:15:00</td>\n",
       "      <td>2019-06-05 10:25:00</td>\n",
       "      <td>ECLBAX</td>\n",
       "      <td>15.0</td>\n",
       "      <td>320</td>\n",
       "      <td>60</td>\n",
       "      <td>45</td>\n",
       "      <td>A</td>\n",
       "      <td>['Christina Miller_41_60_45_ca', 'Jeffrey Vazq...</td>\n",
       "      <td>[]</td>\n",
       "      <td>50.0</td>\n",
       "      <td>49.0</td>\n",
       "      <td>45.0</td>\n",
       "      <td>Desireeton</td>\n",
       "      <td>28.0</td>\n",
       "      <td>7.0</td>\n",
       "      <td>130.0</td>\n",
       "      <td>2</td>\n",
       "      <td>10.0</td>\n",
       "      <td>15.0</td>\n",
       "    </tr>\n",
       "  </tbody>\n",
       "</table>\n",
       "</div>"
      ],
      "text/plain": [
       "   fn_number_x          dep_ap_sched arr_ap_sched dep_sched_date  \\\n",
       "0       EC3292           New Jessica  East Carmen     2019-06-01   \n",
       "6       EC3008            Joneshaven  East Carmen     2019-06-02   \n",
       "12      EC2578  Lake Lawrencechester  East Carmen     2019-06-03   \n",
       "16      EC3316      East Latashaview  East Carmen     2019-06-04   \n",
       "20      EC2868           Kennethfort  East Carmen     2019-06-05   \n",
       "\n",
       "        dep_sched_time arr_sched_date      arr_sched_time        m_offblockdt  \\\n",
       "0  2019-06-01 03:25:00     2019-06-01 2019-06-01 06:45:00 2019-06-01 03:50:00   \n",
       "6  2019-06-02 08:55:00     2019-06-02 2019-06-02 10:20:00 2019-06-02 09:10:00   \n",
       "12 2019-06-03 07:50:00     2019-06-03 2019-06-03 09:15:00 2019-06-03 07:50:00   \n",
       "16 2019-06-04 03:15:00     2019-06-04 2019-06-04 07:05:00 2019-06-04 03:29:00   \n",
       "20 2019-06-05 08:00:00     2019-06-05 2019-06-05 10:00:00 2019-06-05 08:15:00   \n",
       "\n",
       "           m_onblockdt ac_registration_x  dep_delay Ac Type Code  trans_time  \\\n",
       "0  2019-06-01 07:01:00            ECLBAX       25.0          320           0   \n",
       "6  2019-06-02 10:28:00            ECLBAX       15.0          320          39   \n",
       "12 2019-06-03 09:11:00            ECLBAX        0.0          320          54   \n",
       "16 2019-06-04 07:10:00            ECLBAX       14.0          320           0   \n",
       "20 2019-06-05 10:25:00            ECLBAX       15.0          320          60   \n",
       "\n",
       "    sched_trans_time Crew Group  \\\n",
       "0                  0      Start   \n",
       "6                 45          A   \n",
       "12                70          A   \n",
       "16                 0      Start   \n",
       "20                45          A   \n",
       "\n",
       "                                            TLC_trans crew_type_change  \\\n",
       "0   ['Sean Weeks_nan_nan_nan_ca', 'Tony Lloyd_nan_...               []   \n",
       "6   ['Kyle Melendez_66_39_45_cp', 'Marissa Edwards...               []   \n",
       "12  ['Mrs. Cheryl Williams_60_54_70_ca', 'Brian Wh...               []   \n",
       "16  ['Richard Anderson_nan_nan_nan_ca', 'Vicki Gri...               []   \n",
       "20  ['Christina Miller_41_60_45_ca', 'Jeffrey Vazq...               []   \n",
       "\n",
       "    Sched Groundtime  Act Groundtime  mingt  arr_leg_outbound  \\\n",
       "0               95.0            94.0   45.0   South Nathaniel   \n",
       "6               50.0            65.0   45.0      Marioborough   \n",
       "12              95.0           122.0   45.0        Desireeton   \n",
       "16              80.0            89.0   45.0  East Latashaview   \n",
       "20              50.0            49.0   45.0        Desireeton   \n",
       "\n",
       "    catering_duration  pax_boarding_duration  actual_block_time  \\\n",
       "0                27.0                   25.0              191.0   \n",
       "6                20.0                   16.0               78.0   \n",
       "12               20.0                   26.0               81.0   \n",
       "16               21.0                   27.0              221.0   \n",
       "20               28.0                    7.0              130.0   \n",
       "\n",
       "    flt_event_number  block_delay  ground_delay  \n",
       "0                  1         -9.0          25.0  \n",
       "6                  2         -7.0          15.0  \n",
       "12                 2         -4.0           0.0  \n",
       "16                 1         -9.0          14.0  \n",
       "20                 2         10.0          15.0  "
      ]
     },
     "execution_count": 44,
     "metadata": {},
     "output_type": "execute_result"
    }
   ],
   "source": [
    "full_df_wdelay = pd.read_pickle('../data/processed/full_df_unedited_wdelay.pkl')\n",
    "full_df_wdelay.head()"
   ]
  },
  {
   "cell_type": "markdown",
   "metadata": {},
   "source": [
    "We repeat the basic experiment, but this time we do delay prediction instead of ground/block time prediction"
   ]
  },
  {
   "cell_type": "code",
   "execution_count": 45,
   "metadata": {},
   "outputs": [],
   "source": [
    "# For the moment, let's in this step drop all variables we will not use. ToDo: Check which step is the best step to do that\n",
    "columns_to_drop_delaypred = [\n",
    "    'TLC_trans',\n",
    "    'catering_duration',\n",
    "    'dep_sched_date', # the date itself has no real information. ToDo: Maybe we should extract the day of week here\n",
    "    'dep_sched_time', # the time has a value but is dropped for the moment due to formatting. \n",
    "    'arr_sched_date',\n",
    "    'arr_sched_time',\n",
    "    'm_offblockdt',\n",
    "    'm_onblockdt',\n",
    "    # to ensure proper comparison in between ground/block time and ground/block delay prediction, we drop the targets of ground/block time prediction. \n",
    "    'Act Groundtime',\n",
    "    #'block_time'\n",
    "]\n",
    "\n",
    "full_df_wdelay = full_df_wdelay[full_df_wdelay['Act Groundtime']<180]\n",
    "\n",
    "\n",
    "full_df_wdelay = full_df_wdelay.drop(columns_to_drop_delaypred, axis = 1)"
   ]
  },
  {
   "cell_type": "code",
   "execution_count": 46,
   "metadata": {},
   "outputs": [],
   "source": [
    "# Creating dummy variables for all categorical variables\n",
    "# Note: Onehotencoder is the better solution, however for simplicity let's use pandas for the moment\n",
    "\n",
    "# Get object columns\n",
    "full_df_wdelay_objectcolumns = full_df_wdelay.select_dtypes(include = 'object')\n",
    "varlist = full_df_wdelay_objectcolumns.columns.values.tolist()\n",
    "\n",
    "# get dummies\n",
    "full_df_wdelay_encoded = pd.get_dummies(full_df_wdelay, columns = varlist, drop_first = True)"
   ]
  },
  {
   "cell_type": "code",
   "execution_count": 47,
   "metadata": {},
   "outputs": [],
   "source": [
    "# We split the forecast in two different forecasts - one for ground delay and one for block delay\n",
    "\n",
    "X_train_blockdelay, X_test_blockdelay, y_train_blockdelay, y_test_blockdelay = train_test_split(\n",
    "    full_df_wdelay_encoded.drop(['block_delay'], axis = 1), full_df_wdelay_encoded['block_delay'], test_size=0.33, random_state=42)\n",
    "    \n",
    "X_train_grounddelay, X_test_grounddelay, y_train_grounddelay, y_test_grounddelay = train_test_split(\n",
    "    full_df_wdelay_encoded.drop(['ground_delay'], axis = 1), full_df_wdelay_encoded['ground_delay'], test_size=0.33, random_state=42)\n"
   ]
  },
  {
   "cell_type": "code",
   "execution_count": 48,
   "metadata": {},
   "outputs": [
    {
     "data": {
      "text/plain": [
       "array([1.67405860e-02, 1.90020403e+01, 1.67405860e-02, ...,\n",
       "       8.55846934e+01, 4.00269356e+00, 3.78949876e+01])"
      ]
     },
     "execution_count": 48,
     "metadata": {},
     "output_type": "execute_result"
    }
   ],
   "source": [
    "# Gradientboosting as base classifier\n",
    "\n",
    "# Blocktime\n",
    "base_model_blockdelay = GradientBoostingRegressor()\n",
    "\n",
    "base_model_blockdelay.fit(X_train_blockdelay, y_train_blockdelay)\n",
    "base_model_blockdelay.predict(X_test_blockdelay)\n",
    "\n",
    "\n",
    "# Groundtime\n",
    "\n",
    "base_model_grounddelay = GradientBoostingRegressor()\n",
    "\n",
    "base_model_grounddelay.fit(X_train_grounddelay, y_train_grounddelay)\n",
    "base_model_grounddelay.predict(X_test_grounddelay)\n"
   ]
  },
  {
   "cell_type": "code",
   "execution_count": 49,
   "metadata": {},
   "outputs": [
    {
     "name": "stdout",
     "output_type": "stream",
     "text": [
      "The r^2 for Block delay is 0.3686\n",
      "The RMSE for Block delay is 5.63 minutes.\n",
      "\n",
      "\n",
      "The r^2 for Ground delay is 0.9982\n",
      "The RMSE for Ground delay is 1.19 minutes.\n"
     ]
    }
   ],
   "source": [
    "# Blocktime\n",
    "r2_blockdelay = base_model_blockdelay.score(X_test_blockdelay, y_test_blockdelay)\n",
    "rmse_blockdelay = np.sqrt(mean_squared_error(y_test_blockdelay, base_model_blockdelay.predict(X_test_blockdelay)))\n",
    "print(\"The r^2 for Block delay is \" + str(round(r2_blockdelay,4)))\n",
    "print(\"The RMSE for Block delay is \" + str(round(rmse_blockdelay,2)) + \" minutes.\")\n",
    "print(\"\\n\")\n",
    "\n",
    "# Groundtime\n",
    "r2_grounddelay = base_model_grounddelay.score(X_test_grounddelay, y_test_grounddelay)\n",
    "rmse_grounddelay = np.sqrt(mean_squared_error(y_test_grounddelay, base_model_grounddelay.predict(X_test_grounddelay)))\n",
    "print(\"The r^2 for Ground delay is \" + str(round(r2_grounddelay,4)))\n",
    "print(\"The RMSE for Ground delay is \" + str(round(rmse_grounddelay,2)) + \" minutes.\")"
   ]
  },
  {
   "cell_type": "markdown",
   "metadata": {},
   "source": [
    "# Processed Dataset"
   ]
  },
  {
   "cell_type": "code",
   "execution_count": 50,
   "metadata": {},
   "outputs": [
    {
     "name": "stdout",
     "output_type": "stream",
     "text": [
      "(11628, 16)\n"
     ]
    },
    {
     "data": {
      "text/plain": [
       "(11469, 16)"
      ]
     },
     "execution_count": 50,
     "metadata": {},
     "output_type": "execute_result"
    }
   ],
   "source": [
    "full_df = pd.read_pickle('../data/finalized/full_df.pkl')\n",
    "\n",
    "\n",
    "\n",
    "\n",
    "#columns_to_drop_full_df = [\n",
    "#    #'TLC_trans',\n",
    "#    'catering_duration',\n",
    "#    'dep_sched_date', # the date itself has no real information. ToDo: Maybe we should extract the day of week here\n",
    "#    'dep_sched_time', # the time has a value but is dropped for the moment due to formatting. \n",
    "#    'arr_sched_date',\n",
    "#    'arr_sched_time',\n",
    "#    'm_offblockdt',\n",
    "#    'm_onblockdt',\n",
    "#    # to ensure proper comparison in between ground/block time and ground/block delay prediction, we drop the targets of ground/block time prediction. \n",
    "#    'Act Groundtime',\n",
    "#    #'block_time'\n",
    "#]\n",
    "\n",
    "#full_df = full_df.drop(columns_to_drop_full_df, axis = 1)\n",
    "#full_df = full_df.select_dtypes(exclude=['datetime64'])\n",
    "\n",
    "\n",
    "#*******************************temp************************************\n",
    "#test ob es was bringt, de facto keine ground columns mehr zu haben\n",
    "full_df = full_df.drop(['catering_duration','arr_leg_outbound','mingt','sched_turnaround'], axis = 1) # maybe improve and impute sched_turnaround\n",
    "\n",
    "#drop trans_time and block time as well\n",
    "full_df = full_df.drop(['trans_time', 'actual_block_time', 'fn_number_x'], axis = 1)\n",
    "#***********************************************************************\n",
    "\n",
    "full_df['Route'] = full_df['dep_ap_sched'] + \"_\" + full_df['arr_ap_sched']\n",
    "full_df = full_df.drop(['dep_ap_sched','arr_ap_sched'], axis = 1)\n",
    "\n",
    "print(full_df.shape)\n",
    "\n",
    "full_df = full_df.dropna(how = 'any')\n",
    "'*************************'\n",
    "#full_df = full_df[full_df['Sched Groundtime']<270]\n",
    "\n",
    "\n",
    "full_df.shape\n",
    "#full_df[full_df['leg_no'] == 271997824]"
   ]
  },
  {
   "cell_type": "code",
   "execution_count": 51,
   "metadata": {},
   "outputs": [
    {
     "name": "stdout",
     "output_type": "stream",
     "text": [
      "(8374, 14)\n",
      "(8363, 14)\n",
      "(7914, 14)\n"
     ]
    }
   ],
   "source": [
    "#*********************************************************Temp************************************************************\n",
    "#das hier am besten zu 4\n",
    "\n",
    "full_df = full_df.drop(['flt_event_number','sched_trans_time'], axis = 1)\n",
    "\n",
    "\n",
    "# Outlier Deletion nach Hinnerk\n",
    "# Function to identify outliers for all continous variables\n",
    "def find_outliers(df, col):\n",
    "    q25 = df[col].quantile(0.25)\n",
    "    q75 = df[col].quantile(0.75)\n",
    "    iqr = q75 - q25\n",
    "    ll = q25 - 1.5 * iqr\n",
    "    ul = q75 + 1.5 * iqr\n",
    "\n",
    "    ls = df.index[(df[col] < ll) | (df[col] > ul)]\n",
    "\n",
    "    return ls\n",
    "\n",
    "outlier_idx = []\n",
    "#full_df_columns = full_df[['sched_trans_time', 'Sched Groundtime', 'Act Groundtime', 'block_delay', 'ground_delay']].columns\n",
    "full_df_columns = full_df[['Sched Groundtime', 'Act Groundtime', 'block_delay', 'ground_delay']].columns\n",
    "for col in full_df_columns:\n",
    "    if full_df[col].dtype in ['int64', 'float64']:\n",
    "        outlier_idx.extend(find_outliers(full_df, col))\n",
    "\n",
    "full_df = full_df.drop(outlier_idx)\n",
    "\n",
    "print(full_df.shape)\n",
    "full_df=full_df[full_df['Sched Groundtime']>0]\n",
    "print(full_df.shape)\n",
    "full_df=full_df[full_df['Act Groundtime']>0]\n",
    "print(full_df.shape)\n",
    "\n",
    "full_df.shape\n",
    "full_df.to_pickle('full_df_comparison.pkl')\n",
    "\n",
    "\n",
    "\n",
    "#columns=['day_of_week','hour_of_day_dep', 'hour_of_day_arr']\n",
    "#for i in columns:\n",
    "#    full_df[i] = full_df[i].apply(str)\n",
    "\n",
    "full_df.dtypes\n",
    "\n",
    "full_df.drop(['Sched Groundtime', 'Act Groundtime', 'Crewchange', 'routing'], axis = 1, inplace = True)\n"
   ]
  },
  {
   "cell_type": "code",
   "execution_count": 52,
   "metadata": {},
   "outputs": [],
   "source": [
    "# Temp, file from Hinnerk*******************************************************************************************+\n",
    "#full_df = pd.read_pickle('../data/finalized/final.pkl')\n",
    "\n",
    "#full_df['flt_ac_type'].astype('object')\n",
    "#full_df = full_df['hour_of_day_dep'].astype('float')"
   ]
  },
  {
   "cell_type": "markdown",
   "metadata": {},
   "source": [
    "## Train/Test Split encoded"
   ]
  },
  {
   "cell_type": "code",
   "execution_count": 53,
   "metadata": {},
   "outputs": [
    {
     "data": {
      "text/plain": [
       "(7914, 316)"
      ]
     },
     "execution_count": 53,
     "metadata": {},
     "output_type": "execute_result"
    }
   ],
   "source": [
    "# Creating dummy variables for all categorical variables\n",
    "# Note: Onehotencoder is the better solution, however for simplicity let's use pandas for the moment\n",
    "\n",
    "# Get object columns\n",
    "full_df_objectcolumns = full_df.select_dtypes(include = ['object', 'category'])\n",
    "varlist = full_df_objectcolumns.columns.values.tolist()\n",
    "\n",
    "# get dummies\n",
    "full_df_encoded = pd.get_dummies(full_df, columns = varlist, drop_first = True)\n",
    "\n",
    "#filter = ['ac']\n",
    "#print(str([i for i in full_df_encoded.columns if 'Route' not in i ])+\"\\n\")\n",
    "\n",
    "full_df_encoded.shape"
   ]
  },
  {
   "cell_type": "code",
   "execution_count": 54,
   "metadata": {},
   "outputs": [
    {
     "data": {
      "text/plain": [
       "\"#Hinnerk****************************************************************************************************\\n\\n# dropping the ground delay filter row\\nfull_df_encoded_blockdelay = full_df_encoded#.drop(['rows_to_drop_grounddelay'], axis = 1)\\nX_train_blockdelay_encoded, X_test_blockdelay_encoded, y_train_blockdelay_encoded, y_test_blockdelay_encoded = train_test_split(\\n    full_df_encoded_blockdelay.drop(['block_delay'], axis = 1), full_df_encoded_blockdelay['block_delay'], test_size=0.33, random_state=42)\\n\\n# Filtering out rows which are skewing ground delay prediction\\nfull_df_encoded_grounddelay = full_df_encoded#[full_df_encoded['rows_to_drop_grounddelay']<1]\\n\\nX_train_grounddelay_encoded, X_test_grounddelay_encoded, y_train_grounddelay_encoded, y_test_grounddelay_encoded = train_test_split(\\n    full_df_encoded_grounddelay.drop(['ground_delay'], axis = 1), full_df_encoded_grounddelay['ground_delay'], test_size=0.33, random_state=42)\\n\""
      ]
     },
     "execution_count": 54,
     "metadata": {},
     "output_type": "execute_result"
    }
   ],
   "source": [
    "# We split the forecast in two different forecasts - one for ground delay and one for block delay\n",
    "\n",
    "# dropping the ground delay filter row\n",
    "full_df_encoded_blockdelay = full_df_encoded.drop(['rows_to_drop_grounddelay'], axis = 1)\n",
    "X_train_blockdelay_encoded, X_test_blockdelay_encoded, y_train_blockdelay_encoded, y_test_blockdelay_encoded = train_test_split(\n",
    "    full_df_encoded_blockdelay.drop(['block_delay'], axis = 1), full_df_encoded_blockdelay['block_delay'], test_size=0.33, random_state=42)\n",
    "\n",
    "# Filtering out rows which are skewing ground delay prediction\n",
    "full_df_encoded_grounddelay = full_df_encoded[full_df_encoded['rows_to_drop_grounddelay'] == 0]\n",
    "\n",
    "X_train_grounddelay_encoded, X_test_grounddelay_encoded, y_train_grounddelay_encoded, y_test_grounddelay_encoded = train_test_split(\n",
    "    full_df_encoded_grounddelay.drop(['ground_delay'], axis = 1), full_df_encoded_grounddelay['ground_delay'], test_size=0.33, random_state=42)\n",
    "\n",
    "'''#Hinnerk****************************************************************************************************\n",
    "\n",
    "# dropping the ground delay filter row\n",
    "full_df_encoded_blockdelay = full_df_encoded#.drop(['rows_to_drop_grounddelay'], axis = 1)\n",
    "X_train_blockdelay_encoded, X_test_blockdelay_encoded, y_train_blockdelay_encoded, y_test_blockdelay_encoded = train_test_split(\n",
    "    full_df_encoded_blockdelay.drop(['block_delay'], axis = 1), full_df_encoded_blockdelay['block_delay'], test_size=0.33, random_state=42)\n",
    "\n",
    "# Filtering out rows which are skewing ground delay prediction\n",
    "full_df_encoded_grounddelay = full_df_encoded#[full_df_encoded['rows_to_drop_grounddelay']<1]\n",
    "\n",
    "X_train_grounddelay_encoded, X_test_grounddelay_encoded, y_train_grounddelay_encoded, y_test_grounddelay_encoded = train_test_split(\n",
    "    full_df_encoded_grounddelay.drop(['ground_delay'], axis = 1), full_df_encoded_grounddelay['ground_delay'], test_size=0.33, random_state=42)\n",
    "'''"
   ]
  },
  {
   "cell_type": "markdown",
   "metadata": {},
   "source": [
    "## Linear Regression\n"
   ]
  },
  {
   "cell_type": "code",
   "execution_count": 55,
   "metadata": {},
   "outputs": [
    {
     "data": {
      "text/plain": [
       "array([41.18899582, 12.17864948, 27.78310294, ..., 31.51163435,\n",
       "       -5.51072097,  7.63249541])"
      ]
     },
     "execution_count": 55,
     "metadata": {},
     "output_type": "execute_result"
    }
   ],
   "source": [
    "# Blocktime\n",
    "lr_block = LinearRegression()\n",
    "\n",
    "lr_block.fit(X_train_blockdelay_encoded, y_train_blockdelay_encoded)\n",
    "lr_block.predict(X_test_blockdelay_encoded)\n",
    "\n",
    "# Groundtime\n",
    "lr_ground = LinearRegression()\n",
    "\n",
    "lr_ground.fit(X_train_grounddelay_encoded, y_train_grounddelay_encoded)\n",
    "lr_ground.predict(X_test_grounddelay_encoded)"
   ]
  },
  {
   "cell_type": "code",
   "execution_count": 56,
   "metadata": {},
   "outputs": [
    {
     "name": "stdout",
     "output_type": "stream",
     "text": [
      "The r^2 for Block delay is -3153678589.7033\n",
      "The RMSE for Block delay is 1059188.18 minutes.\n",
      "\n",
      "\n",
      "The r^2 for Ground delay is -86510273.2216\n",
      "The RMSE for Ground delay is 164240.1 minutes.\n"
     ]
    }
   ],
   "source": [
    "# Blocktime\n",
    "r2_blockdelay = lr_block.score(X_test_blockdelay_encoded, y_test_blockdelay_encoded)\n",
    "rmse_blockdelay = np.sqrt(mean_squared_error(y_test_blockdelay_encoded, lr_block.predict(X_test_blockdelay_encoded)))\n",
    "print(\"The r^2 for Block delay is \" + str(round(r2_blockdelay,4)))\n",
    "print(\"The RMSE for Block delay is \" + str(round(rmse_blockdelay,2)) + \" minutes.\")\n",
    "print(\"\\n\")\n",
    "\n",
    "# Groundtime\n",
    "r2_grounddelay = lr_ground.score(X_test_grounddelay_encoded, y_test_grounddelay_encoded)\n",
    "rmse_grounddelay = np.sqrt(mean_squared_error(y_test_grounddelay_encoded, lr_ground.predict(X_test_grounddelay_encoded)))\n",
    "print(\"The r^2 for Ground delay is \" + str(round(r2_grounddelay,4)))\n",
    "print(\"The RMSE for Ground delay is \" + str(round(rmse_grounddelay,2)) + \" minutes.\")"
   ]
  },
  {
   "cell_type": "markdown",
   "metadata": {},
   "source": [
    "## Setup of Modelling"
   ]
  },
  {
   "cell_type": "code",
   "execution_count": 57,
   "metadata": {},
   "outputs": [],
   "source": [
    "# Imports \n",
    "from sklearn.linear_model import LinearRegression, Lasso, Ridge\n",
    "from sklearn.svm import SVR\n",
    "from sklearn.pipeline import Pipeline\n",
    "from sklearn.model_selection import GridSearchCV\n"
   ]
  },
  {
   "cell_type": "code",
   "execution_count": 58,
   "metadata": {},
   "outputs": [
    {
     "name": "stdout",
     "output_type": "stream",
     "text": [
      "Fitting 5 folds for each of 6 candidates, totalling 30 fits\n",
      "Fitting 5 folds for each of 6 candidates, totalling 30 fits\n",
      "Pipeline(steps=[('regressor', Ridge(alpha=2))]) {'regressor': Ridge(alpha=2), 'regressor__alpha': 2}\n",
      "Pipeline(steps=[('regressor',\n",
      "                 GradientBoostingRegressor(max_depth=11, max_leaf_nodes=30,\n",
      "                                           n_estimators=150))]) {'regressor': GradientBoostingRegressor(max_depth=11, max_leaf_nodes=30, n_estimators=150), 'regressor__max_depth': 11, 'regressor__max_leaf_nodes': 30, 'regressor__n_estimators': 150}\n",
      "The r^2 for Block delay is 0.8843\n",
      "The RMSE for Block delay is 6.42 minutes.\n",
      "\n",
      "\n",
      "The r^2 for Ground delay is 0.9171\n",
      "The RMSE for Ground delay is 5.08 minutes.\n",
      "CPU times: total: 14.7 s\n",
      "Wall time: 1min 47s\n"
     ]
    }
   ],
   "source": [
    "%%time\n",
    "# Initialize estimators\n",
    "\n",
    "#reg1 = LinearRegression()\n",
    "reg2 = Ridge()\n",
    "#reg3 = Lasso()\n",
    "reg4 = GradientBoostingRegressor()\n",
    "#reg5 = SVR()\n",
    "\n",
    "# Initialize hyperparameters for each dictionary\n",
    "#param1 = {}\n",
    "\n",
    "param2 = {}\n",
    "param2['regressor__alpha'] = [0,1,2,3]#[x for x in np.linspace(0,2,num = 4)]\n",
    "param2['regressor'] = [reg2]\n",
    "\n",
    "param4 = {}\n",
    "param4['regressor__n_estimators'] = [150]# [10,50,100,150,250,300] #[10,50,100,150,250]#[10,50,100,150,200,250]\n",
    "param4['regressor__max_depth'] = [11]#[8,10,12,15,18,20]#,18]#,22] #[2,3,6,8,10,12,18] #[2,3,4,6,8,10,12,15,18]\n",
    "param4['regressor__max_leaf_nodes'] = [30,40]#[6,8,12,15,19,25]#,18] #[6,8,12,None] #[6,8,12,15,19,25,None]\n",
    "param4['regressor'] = [reg4]\n",
    "\n",
    "\n",
    "# Create Pipeline\n",
    "pipeline = Pipeline([('regressor', reg2)])\n",
    "params = [param2, param4]\n",
    "\n",
    "# Train grid search model\n",
    "gs_block = GridSearchCV(pipeline, params, cv=5, n_jobs=-1, scoring='neg_root_mean_squared_error', verbose=1).fit(X_train_blockdelay_encoded,y_train_blockdelay_encoded)\n",
    "gs_ground = GridSearchCV(pipeline, params, cv=5, n_jobs=-1, scoring='neg_root_mean_squared_error', verbose=1).fit(X_train_grounddelay_encoded,y_train_grounddelay_encoded)\n",
    "#gs_block = GridSearchCV(pipeline, params, cv=5, n_jobs=-1, verbose=1).fit(X_train_blockdelay_encoded,y_train_blockdelay_encoded)\n",
    "#gs_ground = GridSearchCV(pipeline, params, cv=5, n_jobs=-1, verbose=1).fit(X_train_grounddelay_encoded,y_train_grounddelay_encoded)\n",
    "print(gs_block.best_estimator_, gs_block.best_params_)\n",
    "print(gs_ground.best_estimator_, gs_ground.best_params_)\n",
    "\n",
    "#Evaluation\n",
    "# Blocktime\n",
    "r2_blockdelay = gs_block.best_estimator_.score(X_test_blockdelay_encoded, y_test_blockdelay_encoded)\n",
    "rmse_blockdelay = np.sqrt(mean_squared_error(y_test_blockdelay_encoded, gs_block.best_estimator_.predict(X_test_blockdelay_encoded)))\n",
    "print(\"The r^2 for Block delay is \" + str(round(r2_blockdelay,4)))\n",
    "print(\"The RMSE for Block delay is \" + str(round(rmse_blockdelay,2)) + \" minutes.\")\n",
    "print(\"\\n\")\n",
    "\n",
    "# Groundtime\n",
    "r2_grounddelay = gs_ground.best_estimator_.score(X_test_grounddelay_encoded, y_test_grounddelay_encoded)\n",
    "rmse_grounddelay = np.sqrt(mean_squared_error(y_test_grounddelay_encoded, gs_ground.best_estimator_.predict(X_test_grounddelay_encoded)))\n",
    "print(\"The r^2 for Ground delay is \" + str(round(r2_grounddelay,4)))\n",
    "print(\"The RMSE for Ground delay is \" + str(round(rmse_grounddelay,2)) + \" minutes.\")\n",
    "\n"
   ]
  },
  {
   "cell_type": "code",
   "execution_count": 174,
   "metadata": {},
   "outputs": [],
   "source": [
    "# filtering out all columns does not help apparently. "
   ]
  },
  {
   "cell_type": "code",
   "execution_count": 186,
   "metadata": {},
   "outputs": [
    {
     "name": "stderr",
     "output_type": "stream",
     "text": [
      "C:\\Users\\PC Paul\\AppData\\Local\\Temp\\ipykernel_960\\1589020009.py:21: FutureWarning: The frame.append method is deprecated and will be removed from pandas in a future version. Use pandas.concat instead.\n",
      "  eval = eval.append({\n",
      "C:\\Users\\PC Paul\\AppData\\Local\\Temp\\ipykernel_960\\1589020009.py:30: FutureWarning: The frame.append method is deprecated and will be removed from pandas in a future version. Use pandas.concat instead.\n",
      "  eval = eval.append({\n"
     ]
    },
    {
     "data": {
      "text/html": [
       "<div>\n",
       "<style scoped>\n",
       "    .dataframe tbody tr th:only-of-type {\n",
       "        vertical-align: middle;\n",
       "    }\n",
       "\n",
       "    .dataframe tbody tr th {\n",
       "        vertical-align: top;\n",
       "    }\n",
       "\n",
       "    .dataframe thead th {\n",
       "        text-align: right;\n",
       "    }\n",
       "</style>\n",
       "<table border=\"1\" class=\"dataframe\">\n",
       "  <thead>\n",
       "    <tr style=\"text-align: right;\">\n",
       "      <th></th>\n",
       "      <th>Group</th>\n",
       "      <th>Model</th>\n",
       "      <th>Parameters</th>\n",
       "      <th>R^2 test</th>\n",
       "      <th>RMSE test</th>\n",
       "      <th>R^2 train</th>\n",
       "      <th>RMSE train</th>\n",
       "    </tr>\n",
       "  </thead>\n",
       "  <tbody>\n",
       "    <tr>\n",
       "      <th>0</th>\n",
       "      <td>Block</td>\n",
       "      <td>Ridge</td>\n",
       "      <td>NaN</td>\n",
       "      <td>0.299786</td>\n",
       "      <td>5.728762</td>\n",
       "      <td>0.390707</td>\n",
       "      <td>5.363538</td>\n",
       "    </tr>\n",
       "    <tr>\n",
       "      <th>1</th>\n",
       "      <td>Ground</td>\n",
       "      <td>Ridge</td>\n",
       "      <td>NaN</td>\n",
       "      <td>0.615664</td>\n",
       "      <td>10.99461</td>\n",
       "      <td>0.651971</td>\n",
       "      <td>10.435815</td>\n",
       "    </tr>\n",
       "  </tbody>\n",
       "</table>\n",
       "</div>"
      ],
      "text/plain": [
       "    Group  Model Parameters  R^2 test RMSE test R^2 train RMSE train\n",
       "0   Block  Ridge        NaN  0.299786  5.728762  0.390707   5.363538\n",
       "1  Ground  Ridge        NaN  0.615664  10.99461  0.651971  10.435815"
      ]
     },
     "execution_count": 186,
     "metadata": {},
     "output_type": "execute_result"
    }
   ],
   "source": [
    "from sklearn.metrics import r2_score, mean_squared_error\n",
    "# Create dataframe to save model evaluation parameters\n",
    "eval = pd.DataFrame(columns= ['Group', 'Model', 'Parameters', 'R^2 test', 'RMSE test', 'R^2 train', 'RMSE train'])\n",
    "\n",
    "# Create ridge regression models with best alpha values\n",
    "rid_block = Ridge(alpha=2, fit_intercept=True)\n",
    "rid_ground = Ridge(alpha=2, fit_intercept=True)\n",
    "\n",
    "# Fit models to training data\n",
    "rid_block.fit(X_train_blockdelay_encoded, y_train_blockdelay_encoded)\n",
    "rid_ground.fit(X_train_grounddelay_encoded, y_train_grounddelay_encoded)\n",
    "\n",
    "# Predict values for train and test data\n",
    "rid_pred_block_train = rid_block.predict(X_train_blockdelay_encoded)\n",
    "rid_pred_ground_train = rid_ground.predict(X_train_grounddelay_encoded)\n",
    "\n",
    "rid_pred_block_test = rid_block.predict(X_test_blockdelay_encoded)\n",
    "rid_pred_ground_test = rid_ground.predict(X_test_grounddelay_encoded)\n",
    "\n",
    "# Save r^2 and RMSE for both models in dataframe for later comparison\n",
    "eval = eval.append({\n",
    "    'Group': 'Block',\n",
    "    'Model': 'Ridge',\n",
    "    'R^2 test': r2_score(y_test_blockdelay_encoded, rid_pred_block_test),\n",
    "    'RMSE test': mean_squared_error(y_test_blockdelay_encoded, rid_pred_block_test, squared=False),\n",
    "    'R^2 train': r2_score(y_train_blockdelay_encoded, rid_pred_block_train),\n",
    "    'RMSE train': mean_squared_error(y_train_blockdelay_encoded, rid_pred_block_train, squared=False)\n",
    "    }, ignore_index=True)\n",
    " \n",
    "eval = eval.append({\n",
    "    'Group': 'Ground',\n",
    "    'Model': 'Ridge',\n",
    "    'R^2 test': r2_score(y_test_grounddelay_encoded, rid_pred_ground_test),\n",
    "    'RMSE test': mean_squared_error(y_test_grounddelay_encoded, rid_pred_ground_test, squared=False),\n",
    "    'R^2 train': r2_score(y_train_grounddelay_encoded, rid_pred_ground_train),\n",
    "    'RMSE train': mean_squared_error(y_train_grounddelay_encoded, rid_pred_ground_train, squared=False),\n",
    "    }, ignore_index=True)\n",
    "\n",
    "eval.round(decimals=3)"
   ]
  },
  {
   "cell_type": "markdown",
   "metadata": {},
   "source": [
    "## Gradient Boosted Tree"
   ]
  },
  {
   "cell_type": "code",
   "execution_count": 367,
   "metadata": {},
   "outputs": [
    {
     "data": {
      "text/plain": [
       "array([34.98205655, 25.11056469, 29.39842072, ..., 21.16724337,\n",
       "       39.10357401, 25.3647793 ])"
      ]
     },
     "execution_count": 367,
     "metadata": {},
     "output_type": "execute_result"
    }
   ],
   "source": [
    "# Gradientboosting as base classifier\n",
    "\n",
    "# Blocktime\n",
    "base_model_blockdelay = GradientBoostingRegressor()\n",
    "\n",
    "base_model_blockdelay.fit(X_train_blockdelay_encoded, y_train_blockdelay_encoded)\n",
    "base_model_blockdelay.predict(X_test_blockdelay_encoded)\n",
    "\n",
    "\n",
    "# Groundtime\n",
    "\n",
    "base_model_grounddelay = GradientBoostingRegressor()\n",
    "\n",
    "base_model_grounddelay.fit(X_train_grounddelay_encoded, y_train_grounddelay_encoded)\n",
    "base_model_grounddelay.predict(X_test_grounddelay_encoded)\n"
   ]
  },
  {
   "cell_type": "code",
   "execution_count": null,
   "metadata": {},
   "outputs": [
    {
     "name": "stdout",
     "output_type": "stream",
     "text": [
      "The r^2 for Block delay is 0.4503\n",
      "The RMSE for Block delay is 5.43 minutes.\n",
      "\n",
      "\n",
      "The r^2 for Ground delay is 0.6768\n",
      "The RMSE for Ground delay is 13.98 minutes.\n"
     ]
    }
   ],
   "source": [
    "# Blocktime\n",
    "r2_blockdelay = base_model_blockdelay.score(X_test_blockdelay_encoded, y_test_blockdelay_encoded)\n",
    "rmse_blockdelay = np.sqrt(mean_squared_error(y_test_blockdelay_encoded, base_model_blockdelay.predict(X_test_blockdelay_encoded)))\n",
    "print(\"The r^2 for Block delay is \" + str(round(r2_blockdelay,4)))\n",
    "print(\"The RMSE for Block delay is \" + str(round(rmse_blockdelay,2)) + \" minutes.\")\n",
    "print(\"\\n\")\n",
    "\n",
    "# Groundtime\n",
    "r2_grounddelay = base_model_grounddelay.score(X_test_grounddelay_encoded, y_test_grounddelay_encoded)\n",
    "rmse_grounddelay = np.sqrt(mean_squared_error(y_test_grounddelay_encoded, base_model_grounddelay.predict(X_test_grounddelay_encoded)))\n",
    "print(\"The r^2 for Ground delay is \" + str(round(r2_grounddelay,4)))\n",
    "print(\"The RMSE for Ground delay is \" + str(round(rmse_grounddelay,2)) + \" minutes.\")"
   ]
  },
  {
   "cell_type": "code",
   "execution_count": null,
   "metadata": {},
   "outputs": [],
   "source": []
  }
 ],
 "metadata": {
  "interpreter": {
   "hash": "3023b32e5b950708ce04368bcdd923addbc37a1ccfc46285c9a8816f1a250a65"
  },
  "kernelspec": {
   "display_name": "Python 3.10.4 ('model-engineering-env')",
   "language": "python",
   "name": "python3"
  },
  "language_info": {
   "codemirror_mode": {
    "name": "ipython",
    "version": 3
   },
   "file_extension": ".py",
   "mimetype": "text/x-python",
   "name": "python",
   "nbconvert_exporter": "python",
   "pygments_lexer": "ipython3",
   "version": "3.10.4"
  },
  "orig_nbformat": 4
 },
 "nbformat": 4,
 "nbformat_minor": 2
}
