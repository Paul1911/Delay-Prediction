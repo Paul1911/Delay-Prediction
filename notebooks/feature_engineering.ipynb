{
 "cells": [
  {
   "cell_type": "markdown",
   "metadata": {},
   "source": [
    "# Task Description\n",
    "\n",
    "Case description:\n",
    "Welcome to East Carmen Airlines! As a strategic data scientist, you are confronted with many use cases to digitalize the airline business. Most important for airlines are accurate predictions of flight arrivals during a day of operations. When it comes to passenger handling, such predictions would admit a proactive steering, in order that the passengers reach the connection flights and therefore save a lot of money.\n",
    "\n",
    "Your model should be applicable to each aircraft in East Carmen’s fleet. Let us take as an example the aircraft with registration name EC-LPD. At scheduled departure of the earliest morning flight from East Carmen’s hub Madrid the model should predict all flights of EC-LPD on the given day.\n",
    "\n",
    "Many business stakeholders do not trust in the robustness of such a model. They claim that for a given aircraft, one could predict the first flight of the day with a decent error, but the errors of second and third flights will be huge. It is now your task to convince the business stakeholders that with a well-prepared data set and meaningful features you can deliver robust flight predictions.\n",
    "\n",
    "Project Aim:\n",
    "From different departments business analysts have collected a lot of information on possible features for flight predictions. Now it is your task to use these data to deliver a prototype forecasting model for all flights of a given aircraft at scheduled departure of the first flight of the day. \n",
    "\n",
    "For instance, for an aircraft with registration name EC-LPD, first flight of the day (FFOD) scheduled at 5:30 am from MAD to VIE and with the connection chain MAD-VIE-MAD-CDG-MAD-LHR-MAD your model should predict the successive landing times in VIE, MAD, CDG, MAD, LHR, MAD. The colleagues from daily operations are especially interested in how the confidence level of such a model evolves during a day of operations."
   ]
  },
  {
   "cell_type": "markdown",
   "metadata": {},
   "source": [
    "# General Information\n",
    "| Amendments by me\n",
    "\n",
    "\n",
    "3.1 File Names\n",
    "- zip-folder: use_case_3.zip\n",
    "- flight_information.csv : information on flights in a given time period, where each data point is a so-called \n",
    "leg, i.e. a flight from departure airport to destination airport with all relevant flight and crew information\n",
    "- ground_information.csv : information on the ground processes after landing at our hub “East Carmen”,\n",
    "where each data point describes the processes between two flights (inbound = landing, outbound = takeoff).\n",
    "\n",
    "\n",
    "3.2 Column Description – Flight Information\n",
    "- leg_no: unique identifier of a flight on a given day, at a certain time, with a given flight number\n",
    "- fn_carrier: airline name\n",
    "- fn_number: flight number; has to be unique on a given day\n",
    "- dep_ap_sched: scheduled departure airport\n",
    "- arr_ap_sched: scheduled arrival airport\n",
    "- dep_sched_date: scheduled departure date\n",
    "- dep_sched_time: scheduled departure time\n",
    "- arr_sched_date: scheduled arrival date\n",
    "- arr_sched_time: scheduled arrival time\n",
    "- m_offblockdt: timestamp of departure\n",
    "- m_onblockdt: timestamp of arrival\n",
    "- ac_registration: aircraft registration number, i.e. the “license plate” of the aircraft\n",
    "- change_reason_code: reason for delay (assigned after the flight)\n",
    "- dep_delay: departure delay\n",
    "- Ac Type Code: aircraft type (example: 320 = Airbus A320)\n",
    "- trans_time: true minimal transition time for crew members after flight, i.e. transition time of the crew\n",
    "member with the least time\n",
    "- sched_trans_time: scheduled minimal transition time for crew members after flight, i.e. scheduled transition\n",
    "time of the crew member with the least time\n",
    "4\n",
    "- Crew Group: assignment of what happens to the whole crew after a flight\n",
    "o Start : First flight of day\n",
    "o A : all crew members stay on the aircraft for the next flight\n",
    "o B, B2: all crew members switch aircraft for the next flight\n",
    "o C: at least one crew member switches aircraft for the next flight\n",
    "- TLC_trans: names of crew members on flight with some additional information attached to each name (but business does not know exactly which additional information is visible there)\n",
    "- crew_type_change: rank (cp = pilot, ca = cabin member) of crew members, who changed aircraft\n",
    "- Sched Groundtime: scheduled ground time of the aircraft between flights | has mistakes; mostly (dep_sched_time of next line) - (arr_sched_time of current line); groundtime AFTER landing\n",
    "- Act Groundtime: actual ground time of the aircraft between flights | has mistakes; mostly (m_offblocktime of next line) - (m_onblocktime of current line); groundtime AFTER landing\n",
    "\n",
    "\n",
    "3.3 Column Description – Ground Information\n",
    "- Each datapoint consists of an inbound (=arriving) flight and an outbound (=departing) flight from our hub “East Carmen)\n",
    "- Catering, cleaning and pax (=passenger) boarding durations given for our hub “East Carmen” between the inbound and outbound flights\n",
    "- day_of_origin: day of flight (also given in Flight Information)\n",
    "- ac_type: aircraft type (also given in Flight Information)\n",
    "- fn_number: flight number (also given in Flight Information)\n",
    "- ac_registration: aircraft registration (also given in Flight Information)\n",
    "- mingt: minimal scheduled ground time for the given aircraft\n",
    "- dep_leg_inbound: departure airport name of inbound (=arriving) flight\n",
    "- arr_leg_inbound: arrival airport name of inbound (=arriving) flight\n",
    "- arr_leg_outbound: departure airport name of outbound (=departing) flight\n",
    "- sched_inbound_dep: scheduled departure time of inbound (=arriving) flight\n",
    "- sched_inbound_arr: scheduled arrival time of inbound (=arriving) flight\n",
    "- sched_outbound_dep: scheduled departure time of outbound (=departing) flight\n",
    "- sched_outbound_arr: scheduled arrival time of outbound (=departing) flight\n",
    "- sched_turnaround: scheduled ground time for aircraft\n",
    "- leg_inbound: leg number of inbound flight\n",
    "- leg_outbound: leg number of outbound flight\n",
    "- catering_duration: catering duration (i.e. filling up meal boxes) between flights in minutes\n",
    "- cleaning_duration: cleaning duration between flights in minutes\n",
    "- pax_boarding_duration: boarding duration between flights in minutes\n",
    "\n",
    "\n",
    "3.4 Additional Info from Business Side:\n",
    "- BI (=business intelligence) colleagues have collected a lot of flight information from many different de-partments: flight-, crew- and ground operations. Each department uses a different data warehouse. BI colleagues claim that some of the columns might be redundant and some information could be wrong, due to bad and not consistent data in the different data warehouses of the business departments. It is central for this prototype study to clean and transform the data and make consistency checks, before applying a machine learning algorithm."
   ]
  },
  {
   "cell_type": "markdown",
   "metadata": {},
   "source": [
    "# Scope of this workbook\n",
    "\n",
    "This workbook aims at data preparation for modelling for the different dataframes that will come up"
   ]
  },
  {
   "cell_type": "code",
   "execution_count": 10,
   "metadata": {},
   "outputs": [],
   "source": [
    "# Imports\n",
    "import pandas as pd \n",
    "import numpy as np \n",
    "import seaborn as sns\n",
    "import matplotlib.pyplot as plt\n",
    "\n",
    "import datetime\n",
    "\n",
    "\n",
    "#Settings\n",
    "pd.set_option(\"display.max_rows\", 70)\n",
    "pd.set_option(\"display.max_columns\", 101)"
   ]
  },
  {
   "cell_type": "code",
   "execution_count": 11,
   "metadata": {},
   "outputs": [],
   "source": [
    "# read data frames\n",
    "full_df_unedited = pd.read_pickle('../data/interim/full_df_unedited.pkl')"
   ]
  },
  {
   "cell_type": "markdown",
   "metadata": {},
   "source": [
    "# Dropping Columns"
   ]
  },
  {
   "cell_type": "code",
   "execution_count": 12,
   "metadata": {},
   "outputs": [],
   "source": [
    "# Columns to drop\n",
    "\n",
    "basic_drop_columns = [\n",
    "    'leg_no',\n",
    "    'fn_carrier',\n",
    "    'change_reason_code',\n",
    "    'day_of_origin',\n",
    "    'ac_type',\n",
    "    'ac_registration_y',\n",
    "    'dep_leg_inbound',\n",
    "    'arr_leg_inbound',\n",
    "    'arr_leg_outbound',\n",
    "    'sched_inbound_dep',\n",
    "    'sched_inbound_arr',\n",
    "    'sched_outbound_dep',\n",
    "    'sched_outbound_arr',\n",
    "    'sched_turnaround',\n",
    "    'leg_inbound',\n",
    "    'leg_outbound',\n",
    "    'cleaning_duration'\n",
    "]"
   ]
  },
  {
   "cell_type": "markdown",
   "metadata": {},
   "source": [
    "## full_df_unedited"
   ]
  },
  {
   "cell_type": "code",
   "execution_count": 13,
   "metadata": {},
   "outputs": [],
   "source": [
    "# dropping columns\n",
    "full_df_unedited = full_df_unedited.drop(basic_drop_columns, axis = 1)\n",
    "\n",
    "# We also get rid of NaN\n",
    "full_df_unedited.dropna()\n",
    "\n",
    "# Export\n",
    "full_df_unedited.to_pickle('../data/processed/full_df_unedited.pkl')\n",
    "full_df_unedited.to_csv('../data/processed/full_df_unedited.csv')"
   ]
  },
  {
   "cell_type": "code",
   "execution_count": null,
   "metadata": {},
   "outputs": [],
   "source": []
  }
 ],
 "metadata": {
  "interpreter": {
   "hash": "0bc10dd72c8aaf2d861c41511aea097bfd1dfda640e26e44598e27f4cfd3593d"
  },
  "kernelspec": {
   "display_name": "Python 3.10.2 ('py310')",
   "language": "python",
   "name": "python3"
  },
  "language_info": {
   "codemirror_mode": {
    "name": "ipython",
    "version": 3
   },
   "file_extension": ".py",
   "mimetype": "text/x-python",
   "name": "python",
   "nbconvert_exporter": "python",
   "pygments_lexer": "ipython3",
   "version": "3.10.4"
  },
  "orig_nbformat": 4
 },
 "nbformat": 4,
 "nbformat_minor": 2
}
